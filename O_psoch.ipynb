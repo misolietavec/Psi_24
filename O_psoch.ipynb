{
 "cells": [
  {
   "cell_type": "markdown",
   "metadata": {},
   "source": [
    "# The bare facts about Dogs in Prešov town"
   ]
  },
  {
   "cell_type": "code",
   "execution_count": null,
   "metadata": {},
   "outputs": [],
   "source": [
    "import pandas as pd"
   ]
  },
  {
   "cell_type": "markdown",
   "metadata": {},
   "source": [
    "### We will read the data for dogs in Žilina town, oficially published (Open Data), see http://www.pomosam.sk "
   ]
  },
  {
   "cell_type": "code",
   "execution_count": null,
   "metadata": {},
   "outputs": [],
   "source": [
    "Psi_ukec = pd.read_json('Psi_Presov.json')      # pandas DataFrame\n",
    "Psi_ukec[:4]"
   ]
  },
  {
   "cell_type": "markdown",
   "metadata": {},
   "source": [
    "## There are many annoying columns, we will throw them, leaving only  _Street, Number, Dog breed_"
   ]
  },
  {
   "cell_type": "code",
   "execution_count": null,
   "metadata": {},
   "outputs": [],
   "source": [
    "Psi = Psi_ukec[['Ulica', 'Orient._č.','Plemeno']].rename(columns={'Orient._č.':'Číslo'})\n",
    "Psi[:6]"
   ]
  },
  {
   "cell_type": "markdown",
   "metadata": {},
   "source": [
    "### We want to know how many dogs are living on given street. Then, what are the \"most populated\" streets?  "
   ]
  },
  {
   "cell_type": "code",
   "execution_count": null,
   "metadata": {
    "scrolled": true
   },
   "outputs": [],
   "source": [
    "Pu = Psi.groupby('Ulica')\n",
    "Su = Pu.size()\n",
    "Su.sort_values(ascending=False,inplace=True)\n",
    "Su\n",
    "Su[Su.values == 1]"
   ]
  },
  {
   "cell_type": "markdown",
   "metadata": {},
   "source": [
    "### There are dogs without streets associated with them. Homeless? How many?  What breeds? <br/>Kríženec = Mixed breed dog"
   ]
  },
  {
   "cell_type": "code",
   "execution_count": null,
   "metadata": {},
   "outputs": [],
   "source": [
    "print(Su[''])\n",
    "Psi[Psi['Ulica'] == '']\n"
   ]
  },
  {
   "cell_type": "markdown",
   "metadata": {},
   "source": [
    "### Now, how many breeds of dogs are in town? Which breeds are most popular? "
   ]
  },
  {
   "cell_type": "code",
   "execution_count": null,
   "metadata": {},
   "outputs": [],
   "source": [
    "Pp = Psi.groupby('Plemeno')\n",
    "Sp = Pp.size()\n",
    "Sp.sort_values(ascending=False,inplace=True)\n",
    "Sp.head(30)"
   ]
  },
  {
   "cell_type": "markdown",
   "metadata": {},
   "source": [
    "### Many dog breeds exist in exactly one instance in Prešov :-) <br/> Hopefully, they can find the kindred souls somewhere, e.g.  in Bratislava..."
   ]
  },
  {
   "cell_type": "code",
   "execution_count": null,
   "metadata": {},
   "outputs": [],
   "source": [
    "Osameli = Sp[Sp==1]\n",
    "print(len(Osameli))\n",
    "Osameli"
   ]
  }
 ],
 "metadata": {
  "kernelspec": {
   "display_name": "Python 3 (ipykernel)",
   "language": "python",
   "name": "python3"
  },
  "language_info": {
   "codemirror_mode": {
    "name": "ipython",
    "version": 3
   },
   "file_extension": ".py",
   "mimetype": "text/x-python",
   "name": "python",
   "nbconvert_exporter": "python",
   "pygments_lexer": "ipython3",
   "version": "3.10.8"
  }
 },
 "nbformat": 4,
 "nbformat_minor": 4
}
