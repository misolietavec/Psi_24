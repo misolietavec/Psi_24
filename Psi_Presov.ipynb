{
 "cells": [
  {
   "cell_type": "markdown",
   "metadata": {},
   "source": [
    "# Kde Psi v Prešove žijú...\n"
   ]
  },
  {
   "cell_type": "code",
   "execution_count": null,
   "metadata": {},
   "outputs": [],
   "source": [
    "import pandas as pd\n",
    "from psiapomoc import nacitajPsov, psiNaUlici\n",
    "from adresypomoc import lokaciaUlica\n",
    "import ipyleaflet\n",
    "from numpy import mean\n",
    "from ipyleaflet import CircleMarker"
   ]
  },
  {
   "cell_type": "markdown",
   "metadata": {},
   "source": [
    "### Dáta o psoch sme zobrali z [http://egov.presov.sk](http://egov.presov.sk)"
   ]
  },
  {
   "cell_type": "code",
   "execution_count": null,
   "metadata": {},
   "outputs": [],
   "source": [
    "Psi, Nebezp = nacitajPsov()"
   ]
  },
  {
   "cell_type": "markdown",
   "metadata": {},
   "source": [
    "### Pokúsme sa urobiť mapu, kde budú psie bydliská označené.\n",
    "\n",
    "Psov je veľa (3080), tak nie všetkých, ale:\n",
    "- výber podľa ulice, \n",
    "- podľa plemena,\n",
    "- nebezpečné psy,\n",
    "- iné, čo vymyslite.\n",
    "\n",
    "Vyrobte si súbor `psiapomoc.py` kde budú pomocné funkcie, v tomto NB len znázorňujte. "
   ]
  },
  {
   "cell_type": "code",
   "execution_count": null,
   "metadata": {},
   "outputs": [],
   "source": [
    "ul_map, Pv = psiNaUlici(Psi,'Jánošíkova')"
   ]
  },
  {
   "cell_type": "code",
   "execution_count": null,
   "metadata": {},
   "outputs": [],
   "source": [
    "ul_map"
   ]
  }
 ],
 "metadata": {
  "kernelspec": {
   "display_name": "Python 3",
   "language": "python",
   "name": "python3"
  },
  "language_info": {
   "codemirror_mode": {
    "name": "ipython",
    "version": 3
   },
   "file_extension": ".py",
   "mimetype": "text/x-python",
   "name": "python",
   "nbconvert_exporter": "python",
   "pygments_lexer": "ipython3",
   "version": "3.7.3"
  }
 },
 "nbformat": 4,
 "nbformat_minor": 4
}
